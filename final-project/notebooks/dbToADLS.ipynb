{
 "cells": [
  {
   "cell_type": "code",
   "execution_count": 0,
   "metadata": {
    "application/vnd.databricks.v1+cell": {
     "cellMetadata": {
      "byteLimit": 2048000,
      "rowLimit": 10000
     },
     "inputWidgets": {},
     "nuid": "4ca29d7f-d62f-4a88-a5e2-c6b1a086cecf",
     "showTitle": false,
     "tableResultSettingsMap": {},
     "title": ""
    }
   },
   "outputs": [],
   "source": [
    "customer = [(i, f\"Customer_{i}\", f\"cust{i}@gmail.com\", 20 + (i % 30)) for i in range(1, 651)]\n",
    "product = [(i, f\"Product_{i}\", 100 + (i % 50)) for i in range(1, 101)]\n",
    "customer_df = spark.createDataFrame(customer, [\"id\", \"name\", \"email\", \"age\"])\n",
    "product_df = spark.createDataFrame(product, [\"id\", \"product_name\", \"price\"])\n",
    "customer_df.write.mode(\"overwrite\").saveAsTable(\"CustomerData\")\n",
    "product_df.write.mode(\"overwrite\").saveAsTable(\"ProductData\")"
   ]
  },
  {
   "cell_type": "code",
   "execution_count": 0,
   "metadata": {
    "application/vnd.databricks.v1+cell": {
     "cellMetadata": {},
     "inputWidgets": {},
     "nuid": "0c8838bb-7380-4602-98b2-19cc658c1326",
     "showTitle": false,
     "tableResultSettingsMap": {},
     "title": ""
    }
   },
   "outputs": [],
   "source": []
  }
 ],
 "metadata": {
  "application/vnd.databricks.v1+notebook": {
   "computePreferences": null,
   "dashboards": [],
   "environmentMetadata": {
    "base_environment": "",
    "environment_version": "2"
   },
   "inputWidgetPreferences": null,
   "language": "python",
   "notebookMetadata": {
    "mostRecentlyExecutedCommandWithImplicitDF": {
     "commandId": 4709943655720149,
     "dataframes": [
      "_sqldf"
     ]
    },
    "pythonIndentUnit": 4
   },
   "notebookName": "dbToADLS",
   "widgets": {}
  },
  "language_info": {
   "name": "python"
  }
 },
 "nbformat": 4,
 "nbformat_minor": 0
}