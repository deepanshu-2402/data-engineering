{
 "cells": [
  {
   "cell_type": "code",
   "execution_count": 0,
   "metadata": {
    "application/vnd.databricks.v1+cell": {
     "cellMetadata": {},
     "inputWidgets": {},
     "nuid": "f4b84c3a-709f-4069-b543-10d4b4206530",
     "showTitle": false,
     "tableResultSettingsMap": {},
     "title": ""
    }
   },
   "outputs": [],
   "source": [
    "#accessing data\n",
    "import requests\n",
    "import json\n",
    "countries = [\"india\", \"us\", \"uk\", \"china\", \"russia\"]\n",
    "for c in countries:\n",
    "    url = f\"https://restcountries.com/v3.1/name/{c}\"\n",
    "    response = requests.get(url)\n",
    "    data = response.json()\n",
    "    dbutils.fs.put(f\"/mnt/raw/{c}.json\", json.dumps(data), overwrite=True)"
   ]
  },
  {
   "cell_type": "code",
   "execution_count": 0,
   "metadata": {
    "application/vnd.databricks.v1+cell": {
     "cellMetadata": {},
     "inputWidgets": {},
     "nuid": "ca9dc1e8-f6b5-48c2-bedb-2a7a018b0e64",
     "showTitle": false,
     "tableResultSettingsMap": {},
     "title": ""
    }
   },
   "outputs": [],
   "source": [
    "#mounting azure storage\n",
    "mount_point = \"/mnt/raw\"\n",
    "if not any(m.mountPoint == mount_point for m in dbutils.fs.mounts()):\n",
    "    dbutils.fs.mount(\n",
    "        source = \"wasbs://final-project@week5assignment.blob.core.windows.net/\",\n",
    "        mount_point = mount_point,\n",
    "        extra_configs = {\"fs.azure.account.key.week5assignment.blob.core.windows.net\": \"<your-access-key\"}\n",
    "    )"
   ]
  }
 ],
 "metadata": {
  "application/vnd.databricks.v1+notebook": {
   "computePreferences": null,
   "dashboards": [],
   "environmentMetadata": {
    "base_environment": "",
    "environment_version": "2"
   },
   "inputWidgetPreferences": null,
   "language": "python",
   "notebookMetadata": {
    "pythonIndentUnit": 4
   },
   "notebookName": "apiToJson",
   "widgets": {}
  },
  "language_info": {
   "name": "python"
  }
 },
 "nbformat": 4,
 "nbformat_minor": 0
}
