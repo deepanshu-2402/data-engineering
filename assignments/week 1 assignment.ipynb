{
 "cells": [
  {
   "cell_type": "markdown",
   "id": "d0d1e886-b430-4b8d-843d-4df2229d8b23",
   "metadata": {},
   "source": [
    "# Question 1. py-if-else task: Uses conditional statements (if-elif-else) to make decisions based on input values."
   ]
  },
  {
   "cell_type": "code",
   "execution_count": 1,
   "id": "01f561cd-1eaf-41cf-8391-7192cc18bd8a",
   "metadata": {},
   "outputs": [
    {
     "name": "stdin",
     "output_type": "stream",
     "text": [
      "Enter your marks (0-100):  56\n"
     ]
    },
    {
     "name": "stdout",
     "output_type": "stream",
     "text": [
      "Grade: F\n",
      "Feedback: Failed. Don’t lose hope—analyze mistakes and work hard.\n"
     ]
    }
   ],
   "source": [
    "#based on my college grade system\n",
    "marks = int(input(\"Enter your marks (0-100): \"))\n",
    "if not 0 <= marks <= 100:\n",
    "    print(\"Invalid input! Marks should be between 0 and 100.\")\n",
    "elif marks >= 97:\n",
    "    print(\"Grade: A+\")\n",
    "    print(\"Feedback: Outstanding performance! Keep it up.\")\n",
    "elif marks >= 90:\n",
    "    print(\"Grade: A\")\n",
    "    print(\"Feedback: Excellent work! Stay consistent.\")\n",
    "elif marks >= 85:\n",
    "    print(\"Grade: B+\")\n",
    "    print(\"Feedback: Very good! A little push for A.\")\n",
    "elif marks >= 80:\n",
    "    print(\"Grade: B\")\n",
    "    print(\"Feedback: Good job! Review a few weak topics.\")\n",
    "elif marks >= 75:\n",
    "    print(\"Grade: C+\")\n",
    "    print(\"Feedback: Decent. Try solving more practice questions.\")\n",
    "elif marks >= 70:\n",
    "    print(\"Grade: C\")\n",
    "    print(\"Feedback: Fair, but there’s room for improvement.\")\n",
    "elif marks >= 65:\n",
    "    print(\"Grade: D+\")\n",
    "    print(\"Feedback: Needs more focus. Consider revision sessions.\")\n",
    "elif marks >= 60:\n",
    "    print(\"Grade: D\")\n",
    "    print(\"Feedback: You passed, but aim higher!\")\n",
    "else:\n",
    "    print(\"Grade: F\")\n",
    "    print(\"Feedback: Failed. Don’t lose hope—analyze mistakes and work hard.\")"
   ]
  },
  {
   "cell_type": "markdown",
   "id": "6fe1bedb-41e6-45b0-945f-264f0c958259",
   "metadata": {},
   "source": [
    "# question 2. python-arithmetic-operators: Involves performing basic mathematical operations like addition, subtraction, multiplication, and division."
   ]
  },
  {
   "cell_type": "code",
   "execution_count": 3,
   "id": "affab0fc-ac2f-4ff0-a1a5-8a92101f037b",
   "metadata": {},
   "outputs": [
    {
     "name": "stdin",
     "output_type": "stream",
     "text": [
      "Enter first number:  4\n",
      "Enter second number:  8\n"
     ]
    },
    {
     "name": "stdout",
     "output_type": "stream",
     "text": [
      "Addition: 12\n",
      "Subtraction: -4\n",
      "Multiplication: 32\n",
      "Division: 0\n"
     ]
    }
   ],
   "source": [
    "a = int(input(\"Enter first number: \"))\n",
    "b = int(input(\"Enter second number: \"))\n",
    "print(\"Addition:\", a + b)\n",
    "print(\"Subtraction:\", a - b)\n",
    "print(\"Multiplication:\", a * b)\n",
    "print(\"Division:\", a // b)"
   ]
  },
  {
   "cell_type": "markdown",
   "id": "96f59379-dacf-421e-9bfc-46dd2ccbbdd7",
   "metadata": {},
   "source": [
    "# question 3. compress-the-string: Compresses a string by counting consecutive characters, often using itertools.groupby()."
   ]
  },
  {
   "cell_type": "code",
   "execution_count": 40,
   "id": "230a7dc0-5604-4631-8e3a-e22cdc409e8c",
   "metadata": {},
   "outputs": [
    {
     "name": "stdin",
     "output_type": "stream",
     "text": [
      "Enter string to compress: 444333888833333\n"
     ]
    },
    {
     "name": "stdout",
     "output_type": "stream",
     "text": [
      "Result in form (count,element)\n",
      "(3, 4) (3, 3) (4, 8) (5, 3) "
     ]
    }
   ],
   "source": [
    "#for numeric strings\n",
    "from itertools import groupby\n",
    "s = input(\"Enter string to compress:\" )\n",
    "print(\"Result in form (count,element)\")\n",
    "for k, g in groupby(s):\n",
    "    print((len(list(g)), int(k)), end=' ')"
   ]
  },
  {
   "cell_type": "markdown",
   "id": "647516c1-396e-4c49-9838-453347903af4",
   "metadata": {},
   "source": [
    "# question 4. the-minion-game: A string game where players earn points by forming substrings starting with vowels or consonants."
   ]
  },
  {
   "cell_type": "code",
   "execution_count": 36,
   "id": "fa53ec6f-25fd-4af5-ac10-6d84af672917",
   "metadata": {},
   "outputs": [
    {
     "name": "stdin",
     "output_type": "stream",
     "text": [
      "Enter string:  drisha\n"
     ]
    },
    {
     "name": "stdout",
     "output_type": "stream",
     "text": [
      "Winner \"Stuart\" with score 21\n"
     ]
    }
   ],
   "source": [
    "def minion_game(string):\n",
    "    vowels = 'AEIOU'\n",
    "    kevin_score = 0\n",
    "    stuart_score = 0\n",
    "    length = len(string)\n",
    "    for i in range(length):\n",
    "        if string[i] in vowels:\n",
    "            kevin_score += length - i\n",
    "        else:\n",
    "            stuart_score += length - i\n",
    "    if kevin_score > stuart_score:\n",
    "        print(\"Winner \\\"Kevin\\\" with score\", kevin_score)\n",
    "    elif stuart_score > kevin_score:\n",
    "        print(\"Winner \\\"Stuart\\\" with score\", stuart_score)\n",
    "    else:\n",
    "        print(\"Draw\")\n",
    "if __name__ == '__main__':\n",
    "    s = input(\"Enter string: \")\n",
    "    minion_game(s)"
   ]
  },
  {
   "cell_type": "markdown",
   "id": "342cabdb-0a81-4ae0-9028-342a187f5382",
   "metadata": {},
   "source": [
    "# question 5. write-a-function: Teaches how to define reusable blocks of code using the def keyword."
   ]
  },
  {
   "cell_type": "code",
   "execution_count": 37,
   "id": "de971a0b-8fb3-4b1b-a775-17afa9c03904",
   "metadata": {},
   "outputs": [
    {
     "name": "stdin",
     "output_type": "stream",
     "text": [
      "Enter year:  2004\n"
     ]
    },
    {
     "name": "stdout",
     "output_type": "stream",
     "text": [
      "Is  2004  a leap year:  True\n"
     ]
    }
   ],
   "source": [
    "def is_leap(year):\n",
    "    leap = False\n",
    "    if year % 4 == 0:\n",
    "        if year % 100 == 0:\n",
    "            if year % 400 == 0:\n",
    "                return True\n",
    "            else:\n",
    "                return False\n",
    "        else:\n",
    "            return True\n",
    "    else:\n",
    "        return False\n",
    "year = int(input(\"Enter year: \"))\n",
    "print(\"Is \",year,\" a leap year: \",is_leap(year))"
   ]
  },
  {
   "cell_type": "markdown",
   "id": "978c6dd2-a187-40b9-ad5f-de4e652755e9",
   "metadata": {},
   "source": [
    "# question 6. word-order: Counts and displays the number of occurrences of each word while preserving their input order. "
   ]
  },
  {
   "cell_type": "code",
   "execution_count": 39,
   "id": "756a4d22-82c7-42f7-ba70-7b2bb3817170",
   "metadata": {},
   "outputs": [
    {
     "name": "stdin",
     "output_type": "stream",
     "text": [
      "Enter number of words:  5\n",
      "Enter words:  in the in the my\n"
     ]
    },
    {
     "name": "stdout",
     "output_type": "stream",
     "text": [
      "Number of distinct words:  3\n",
      "word : count\n",
      "in : 2\n",
      "the : 2\n",
      "my : 1\n"
     ]
    }
   ],
   "source": [
    "n = int(input(\"Enter number of words: \"))\n",
    "words = input(\"Enter words: \").split()\n",
    "counts = {}\n",
    "order = []\n",
    "for w in words:\n",
    "    if w not in counts:\n",
    "        counts[w] = 1\n",
    "        order.append(w)\n",
    "    else:\n",
    "        counts[w] += 1\n",
    "print(\"Number of distinct words: \",len(order))\n",
    "print(\"word : count\")\n",
    "for word in order:\n",
    "    print(word,\":\", counts[word])"
   ]
  },
  {
   "cell_type": "markdown",
   "id": "94b2a12c-e94f-4cf8-a76d-4d5e2225fc94",
   "metadata": {},
   "source": [
    "# question 7.  iterables-and-iterators: Works with iterators and combinations to solve problems involving sequences and probabilities."
   ]
  },
  {
   "cell_type": "code",
   "execution_count": 17,
   "id": "ddfe63e7-c894-4520-9671-0857a5b1351d",
   "metadata": {},
   "outputs": [
    {
     "name": "stdin",
     "output_type": "stream",
     "text": [
      "Enter number of letters:  5\n",
      "Enter letters:  a s d f g\n",
      "Enter length of combinations:  4\n"
     ]
    },
    {
     "name": "stdout",
     "output_type": "stream",
     "text": [
      "Probability of having 'a' in combination: 0.8000\n"
     ]
    }
   ],
   "source": [
    "from itertools import combinations\n",
    "n = int(input(\"Enter number of letters: \"))\n",
    "letters = input(\"Enter letters: \").split()\n",
    "k = int(input(\"Enter length of combinations: \"))\n",
    "total = list(combinations(letters, k))\n",
    "count = sum('a' in combo for combo in total)\n",
    "print(f\"Probability of having 'a' in combination: {count / len(total):.4f}\")"
   ]
  },
  {
   "cell_type": "markdown",
   "id": "5edca778-4aeb-4ecf-b95c-a7cea17fbdff",
   "metadata": {},
   "source": [
    "# question 8. python-tuples: Introduces immutable sequences and their use in operations like hashing."
   ]
  },
  {
   "cell_type": "code",
   "execution_count": 22,
   "id": "1f451a0c-bc5b-4644-96d0-7385acfcc8cb",
   "metadata": {},
   "outputs": [
    {
     "name": "stdin",
     "output_type": "stream",
     "text": [
      "Enter number of integers:  4\n",
      "Enter integers:  2 1 4 3\n"
     ]
    },
    {
     "name": "stdout",
     "output_type": "stream",
     "text": [
      "Result:  -923787882652019404\n"
     ]
    }
   ],
   "source": [
    "if __name__ == '__main__':\n",
    "    n = int(input(\"Enter number of integers: \"))\n",
    "    integer_list = map(int, input(\"Enter integers: \").split())\n",
    "    # convert list into tuple\n",
    "    t = tuple(integer_list)\n",
    "    print(\"Result: \",hash(t))"
   ]
  },
  {
   "cell_type": "markdown",
   "id": "3e074eca-144e-4524-bbcc-a5198fc7d391",
   "metadata": {},
   "source": [
    "# question 9. finding-the-percentage: Calculates and formats the average marks of a student from a given dataset."
   ]
  },
  {
   "cell_type": "code",
   "execution_count": 25,
   "id": "654a694b-5c56-4c91-8c2b-759af69c76fd",
   "metadata": {},
   "outputs": [
    {
     "name": "stdin",
     "output_type": "stream",
     "text": [
      "Enter number of students:  2\n",
      "Enter student name and marks:  hari 87 56 83 67\n",
      "Enter student name and marks:  om 78 90 75 67\n",
      "Enter student name for which average needs to be calculated:  om\n"
     ]
    },
    {
     "name": "stdout",
     "output_type": "stream",
     "text": [
      "om's average marks:77.50\n"
     ]
    }
   ],
   "source": [
    "if __name__ == '__main__':\n",
    "    n = int(input(\"Enter number of students: \"))\n",
    "    student_marks = {}\n",
    "    for _ in range(n):\n",
    "        name, *line = input(\"Enter student name and marks: \").split()\n",
    "        scores = list(map(float, line))\n",
    "        student_marks[name] = scores\n",
    "    query_name = input(\"Enter student name for which average needs to be calculated: \")\n",
    "    marks = student_marks[query_name]\n",
    "    average = sum(marks) / len(marks)\n",
    "    print(f\"{query_name}'s average marks:{average:.2f}\")"
   ]
  },
  {
   "cell_type": "markdown",
   "id": "9f4f21d8-12d3-4560-a664-d5c975da4de6",
   "metadata": {},
   "source": [
    "# question 10. python-string-formatting: Demonstrates ways to format and align strings and numbers for clean output."
   ]
  },
  {
   "cell_type": "code",
   "execution_count": 32,
   "id": "a84ea05a-f19c-445e-bb93-d546321132ec",
   "metadata": {},
   "outputs": [
    {
     "name": "stdin",
     "output_type": "stream",
     "text": [
      "Enter maximum value to print:  15\n"
     ]
    },
    {
     "name": "stdout",
     "output_type": "stream",
     "text": [
      "Decimal   Octal Hexadecimal  Binary\n",
      "      1       1       1       1\n",
      "      2       2       2      10\n",
      "      3       3       3      11\n",
      "      4       4       4     100\n",
      "      5       5       5     101\n",
      "      6       6       6     110\n",
      "      7       7       7     111\n",
      "      8      10       8    1000\n",
      "      9      11       9    1001\n",
      "     10      12       A    1010\n",
      "     11      13       B    1011\n",
      "     12      14       C    1100\n",
      "     13      15       D    1101\n",
      "     14      16       E    1110\n",
      "     15      17       F    1111\n"
     ]
    }
   ],
   "source": [
    "def print_formatted(number):\n",
    "    width = len(bin(number)) + 1 # for padding\n",
    "    print(\n",
    "        \"Decimal\".rjust(width),\n",
    "        \"Octal\".rjust(width),\n",
    "        \"Hexadecimal\".rjust(width),\n",
    "        \"Binary\".rjust(width)\n",
    "    )\n",
    "    for i in range(1, number + 1):\n",
    "        print(\n",
    "            str(i).rjust(width),\n",
    "            oct(i)[2:].rjust(width),\n",
    "            hex(i)[2:].upper().rjust(width),\n",
    "            bin(i)[2:].rjust(width)\n",
    "        )\n",
    "if __name__ == '__main__':\n",
    "    n = int(input(\"Enter maximum value to print: \"))\n",
    "    print_formatted(n)"
   ]
  },
  {
   "cell_type": "code",
   "execution_count": null,
   "id": "9fa9cda3-61d8-4a66-80bc-5356b8674a21",
   "metadata": {},
   "outputs": [],
   "source": []
  }
 ],
 "metadata": {
  "kernelspec": {
   "display_name": "Python 3 (ipykernel)",
   "language": "python",
   "name": "python3"
  },
  "language_info": {
   "codemirror_mode": {
    "name": "ipython",
    "version": 3
   },
   "file_extension": ".py",
   "mimetype": "text/x-python",
   "name": "python",
   "nbconvert_exporter": "python",
   "pygments_lexer": "ipython3",
   "version": "3.11.7"
  }
 },
 "nbformat": 4,
 "nbformat_minor": 5
}
