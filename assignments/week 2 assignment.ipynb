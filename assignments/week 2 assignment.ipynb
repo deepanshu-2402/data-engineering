{
 "cells": [
  {
   "cell_type": "markdown",
   "id": "9932e4eb-fc7e-44d7-910c-6c9915ed1e8b",
   "metadata": {},
   "source": [
    "# Question 1"
   ]
  },
  {
   "cell_type": "code",
   "execution_count": 1,
   "id": "365c9a34-7127-44ad-a403-cd267ab4f96f",
   "metadata": {},
   "outputs": [
    {
     "name": "stdin",
     "output_type": "stream",
     "text": [
      "Enter name:  riya sinha\n"
     ]
    },
    {
     "name": "stdout",
     "output_type": "stream",
     "text": [
      "Capitalized name: Riya Sinha\n"
     ]
    }
   ],
   "source": [
    "def solve(s):\n",
    "    words = s.split(' ')\n",
    "    capitalized_words = [word[0].upper() + word[1:] if word and word[0].isalpha() else word for word in words]\n",
    "    return ' '.join(capitalized_words)\n",
    "if __name__ == '__main__':\n",
    "    s = input(\"Enter name: \")\n",
    "    result = solve(s)\n",
    "    print(\"Capitalized name: \" + result)"
   ]
  },
  {
   "cell_type": "markdown",
   "id": "ed335db8-a526-440d-8039-bfaa0d2b26c6",
   "metadata": {},
   "source": [
    "# Question 2"
   ]
  },
  {
   "cell_type": "code",
   "execution_count": 2,
   "id": "57b9e279-7179-4063-b913-c81350c97384",
   "metadata": {},
   "outputs": [
    {
     "name": "stdin",
     "output_type": "stream",
     "text": [
      "Enter number of plants:  5\n",
      "Enter the height of plants:  45 34 65 45 29\n"
     ]
    },
    {
     "name": "stdout",
     "output_type": "stream",
     "text": [
      "Average of plants with distinct heights:  43.25\n"
     ]
    }
   ],
   "source": [
    "def average(array):\n",
    "    distinctHeights = set(array)\n",
    "    average = sum(distinctHeights) / len(distinctHeights)\n",
    "    return round(average,3)\n",
    "if __name__ == '__main__':\n",
    "    n = int(input(\"Enter number of plants: \"))\n",
    "    arr = list(map(int, input(\"Enter the height of plants: \").split()))\n",
    "    result = average(arr)\n",
    "    print(\"Average of plants with distinct heights: \" , result)"
   ]
  },
  {
   "cell_type": "markdown",
   "id": "4f13d3f9-260e-47ac-beab-4c6ef092528a",
   "metadata": {},
   "source": [
    "# Question 3"
   ]
  },
  {
   "cell_type": "code",
   "execution_count": 3,
   "id": "bf7d6736-f873-4121-a03b-d6f99466692e",
   "metadata": {},
   "outputs": [
    {
     "name": "stdin",
     "output_type": "stream",
     "text": [
      "Enter string:  qwertyuiop\n",
      "Enter maximum width of paragraph:  3\n"
     ]
    },
    {
     "name": "stdout",
     "output_type": "stream",
     "text": [
      "Wrapped string:\n",
      "qwe\n",
      "rty\n",
      "uio\n",
      "p\n"
     ]
    }
   ],
   "source": [
    "import textwrap\n",
    "def wrap(string, max_width):\n",
    "    return textwrap.fill(string, max_width)\n",
    "if __name__ == '__main__':\n",
    "    string, max_width = input(\"Enter string: \"), int(input(\"Enter maximum width of paragraph: \"))\n",
    "    result = wrap(string, max_width)\n",
    "    print(\"Wrapped string:\\n\" + result)"
   ]
  },
  {
   "cell_type": "markdown",
   "id": "0eb27d43-fa0c-4d83-9ec8-e6854fc2d14a",
   "metadata": {},
   "source": [
    "# Question 4"
   ]
  },
  {
   "cell_type": "code",
   "execution_count": 12,
   "id": "ef7cb720-03a2-43a1-baf4-0117926f51d1",
   "metadata": {},
   "outputs": [
    {
     "name": "stdin",
     "output_type": "stream",
     "text": [
      "Enter the size of alphabet rangoli:  10\n"
     ]
    },
    {
     "name": "stdout",
     "output_type": "stream",
     "text": [
      "------------------j------------------\n",
      "----------------j-i-j----------------\n",
      "--------------j-i-h-i-j--------------\n",
      "------------j-i-h-g-h-i-j------------\n",
      "----------j-i-h-g-f-g-h-i-j----------\n",
      "--------j-i-h-g-f-e-f-g-h-i-j--------\n",
      "------j-i-h-g-f-e-d-e-f-g-h-i-j------\n",
      "----j-i-h-g-f-e-d-c-d-e-f-g-h-i-j----\n",
      "--j-i-h-g-f-e-d-c-b-c-d-e-f-g-h-i-j--\n",
      "j-i-h-g-f-e-d-c-b-a-b-c-d-e-f-g-h-i-j\n",
      "--j-i-h-g-f-e-d-c-b-c-d-e-f-g-h-i-j--\n",
      "----j-i-h-g-f-e-d-c-d-e-f-g-h-i-j----\n",
      "------j-i-h-g-f-e-d-e-f-g-h-i-j------\n",
      "--------j-i-h-g-f-e-f-g-h-i-j--------\n",
      "----------j-i-h-g-f-g-h-i-j----------\n",
      "------------j-i-h-g-h-i-j------------\n",
      "--------------j-i-h-i-j--------------\n",
      "----------------j-i-j----------------\n",
      "------------------j------------------\n"
     ]
    }
   ],
   "source": [
    "def print_rangoli(size):\n",
    "    import string\n",
    "    letters = string.ascii_lowercase[:size]\n",
    "    width = 4 * size - 3\n",
    "    lines = []\n",
    "    for i in range(size):\n",
    "        left = letters[size-1:i:-1]\n",
    "        middle = letters[i:size]\n",
    "        line = '-'.join(left + middle)\n",
    "        lines.append(line.center(width, '-'))\n",
    "    for line in lines[::-1] + lines[1:]:\n",
    "        print(line)\n",
    "if __name__ == '__main__':\n",
    "    n = int(input(\"Enter the size of alphabet rangoli: \"))\n",
    "    print_rangoli(n)"
   ]
  },
  {
   "cell_type": "markdown",
   "id": "54483b78-af5d-4d0f-af68-7c5144f2eff8",
   "metadata": {},
   "source": [
    "# Question 5"
   ]
  },
  {
   "cell_type": "code",
   "execution_count": 16,
   "id": "b9990dda-97f3-4f9c-9666-aa498adf0e95",
   "metadata": {},
   "outputs": [
    {
     "name": "stdin",
     "output_type": "stream",
     "text": [
      "Enter string:  qqwerrttyyyutyrrewqy\n",
      "Enter size of substring:  5\n"
     ]
    },
    {
     "name": "stdout",
     "output_type": "stream",
     "text": [
      "Substrings after removing any subsequent occurrences of non-distinct characters: \n",
      "qwer\n",
      "rty\n",
      "yutr\n",
      "rewqy\n"
     ]
    }
   ],
   "source": [
    "def merge_the_tools(string, k):\n",
    "    print(\"Substrings after removing any subsequent occurrences of non-distinct characters: \")\n",
    "    for i in range(0, len(string), k):\n",
    "        part = string[i:i+k]\n",
    "        result = ''\n",
    "        for char in part:\n",
    "            if char not in result:\n",
    "                result += char\n",
    "        print(result)\n",
    "if __name__ == '__main__':\n",
    "    string, k = input(\"Enter string: \"), int(input(\"Enter size of substring: \"))\n",
    "    merge_the_tools(string, k)"
   ]
  },
  {
   "cell_type": "markdown",
   "id": "f1de2985-0903-4a40-a462-cc71ca2fffa2",
   "metadata": {},
   "source": [
    "# Question 6"
   ]
  },
  {
   "cell_type": "code",
   "execution_count": 4,
   "id": "29afc737-f3a2-4b36-923e-484e1f83bf60",
   "metadata": {},
   "outputs": [
    {
     "name": "stdin",
     "output_type": "stream",
     "text": [
      "Enter number of pair of shoes in shop:  10\n",
      "Enter shoe sizes available in shop:  1 2 3 4 5 6 7 8 9 6\n",
      "Enter number of customers:  5\n",
      "Enter shoe size, price for customer 1:  5,200\n",
      "Enter shoe size, price for customer 2:  6,500\n",
      "Enter shoe size, price for customer 3:  3,700\n",
      "Enter shoe size, price for customer 4:  2,100\n",
      "Enter shoe size, price for customer 5:  5,700\n"
     ]
    },
    {
     "name": "stdout",
     "output_type": "stream",
     "text": [
      "Money earned by Raghu:  1500\n"
     ]
    }
   ],
   "source": [
    "noOfShoes = int(input(\"Enter number of pair of shoes in shop: \"))\n",
    "shoe_sizes = input(\"Enter shoe sizes available in shop: \").split()\n",
    "stock = {}\n",
    "for size in shoe_sizes:\n",
    "    if size in stock:\n",
    "        stock[size] += 1\n",
    "    else:\n",
    "        stock[size] = 1\n",
    "noOfCustomers = int(input(\"Enter number of customers: \"))\n",
    "earnings = 0\n",
    "for i in range(noOfCustomers):\n",
    "    size, price = input(\"Enter shoe size, price for customer \" + str(i + 1) + \": \").split(\",\")\n",
    "    if size in stock and stock[size] > 0:\n",
    "        earnings += int(price)\n",
    "        stock[size] -= 1\n",
    "print(\"Money earned by Raghu: \", earnings)"
   ]
  },
  {
   "cell_type": "markdown",
   "id": "58a632d3-af77-4e1b-aacb-c35992d172ec",
   "metadata": {},
   "source": [
    "# Question 7"
   ]
  },
  {
   "cell_type": "code",
   "execution_count": 7,
   "id": "3e9189bd-cd6b-4523-a69b-c00e68d27671",
   "metadata": {},
   "outputs": [
    {
     "name": "stdin",
     "output_type": "stream",
     "text": [
      "Enter number of test cases:  3\n",
      "Enter values of a,b:  3,0\n"
     ]
    },
    {
     "name": "stdout",
     "output_type": "stream",
     "text": [
      "Error Code: integer division or modulo by zero\n"
     ]
    },
    {
     "name": "stdin",
     "output_type": "stream",
     "text": [
      "Enter values of a,b:  4,$\n"
     ]
    },
    {
     "name": "stdout",
     "output_type": "stream",
     "text": [
      "Error Code: invalid literal for int() with base 10: '$'\n"
     ]
    },
    {
     "name": "stdin",
     "output_type": "stream",
     "text": [
      "Enter values of a,b:  3,1\n"
     ]
    },
    {
     "name": "stdout",
     "output_type": "stream",
     "text": [
      "Result:  3\n"
     ]
    }
   ],
   "source": [
    "testCases = int(input(\"Enter number of test cases: \"))\n",
    "for _ in range(testCases):\n",
    "    try:\n",
    "        a, b = input(\"Enter values of a,b: \").split(\",\")\n",
    "        print(\"Result: \", int(a) // int(b))\n",
    "    except (ZeroDivisionError, ValueError) as e:\n",
    "        print(\"Error Code:\", e)"
   ]
  },
  {
   "cell_type": "markdown",
   "id": "9a2f2583-f68b-47c4-99dd-5892c26ab97f",
   "metadata": {},
   "source": [
    "# Question 8"
   ]
  },
  {
   "cell_type": "code",
   "execution_count": 8,
   "id": "6b2f3e1b-3fde-41b3-84b8-9481a09c01c8",
   "metadata": {},
   "outputs": [
    {
     "name": "stdin",
     "output_type": "stream",
     "text": [
      "Enter number of test cases:  2\n",
      "Enter the pattern:  .*/\n"
     ]
    },
    {
     "name": "stdout",
     "output_type": "stream",
     "text": [
      "Is the pattern a regex: \n",
      "True\n"
     ]
    },
    {
     "name": "stdin",
     "output_type": "stream",
     "text": [
      "Enter the pattern:  .*/+\n"
     ]
    },
    {
     "name": "stdout",
     "output_type": "stream",
     "text": [
      "Is the pattern a regex: \n",
      "True\n"
     ]
    }
   ],
   "source": [
    "import re\n",
    "testCases = int(input(\"Enter number of test cases: \"))\n",
    "for _ in range(testCases):\n",
    "    pattern = input(\"Enter the pattern: \")\n",
    "    print(\"Is the pattern a regex: \")\n",
    "    try:\n",
    "        re.compile(pattern)\n",
    "        print(True)\n",
    "    except re.error:\n",
    "        print(False)"
   ]
  },
  {
   "cell_type": "markdown",
   "id": "49769df6-9b7f-49df-b4ed-63e06d97018d",
   "metadata": {},
   "source": [
    "# Question 9"
   ]
  },
  {
   "cell_type": "code",
   "execution_count": 12,
   "id": "421c7ad2-4ffe-4005-85a9-e4a2d102ba42",
   "metadata": {},
   "outputs": [
    {
     "name": "stdin",
     "output_type": "stream",
     "text": [
      "Enter the number of elements in set:  10\n",
      "Enter the set elements:  11 22 33 44 55 66 77 66 88 99\n",
      "Enter the number of operations you want to perform on set:  3\n",
      "Enter the operation (pop/remove/discard):  pop\n",
      "Enter the operation (pop/remove/discard):  discard 77\n",
      "Enter the operation (pop/remove/discard):  remove 99\n"
     ]
    },
    {
     "name": "stdout",
     "output_type": "stream",
     "text": [
      "Sum of remaining elements of set:  308\n"
     ]
    }
   ],
   "source": [
    "n = int(input(\"Enter the number of elements in set: \"))\n",
    "s = set(map(int, input(\"Enter the set elements: \").split()))\n",
    "setElements = int(input(\"Enter the number of operations you want to perform on set: \"))\n",
    "for _ in range(setElements):\n",
    "    cmd = input(\"Enter the operation (pop/remove/discard): \").split()\n",
    "    operation = cmd[0]\n",
    "    if operation == \"pop\":\n",
    "        if s:\n",
    "            s.remove(min(s))\n",
    "    elif operation == \"remove\":\n",
    "        if len(cmd) > 1:\n",
    "            try:\n",
    "                s.remove(int(cmd[1]))\n",
    "            except KeyError:\n",
    "                pass\n",
    "    elif operation == \"discard\":\n",
    "        if len(cmd) > 1:\n",
    "            s.discard(int(cmd[1]))\n",
    "print(\"Sum of remaining elements of set: \", sum(s))"
   ]
  },
  {
   "cell_type": "code",
   "execution_count": null,
   "id": "5c989208-2df0-4593-8f74-19b08e2eb509",
   "metadata": {},
   "outputs": [],
   "source": []
  }
 ],
 "metadata": {
  "kernelspec": {
   "display_name": "Python 3 (ipykernel)",
   "language": "python",
   "name": "python3"
  },
  "language_info": {
   "codemirror_mode": {
    "name": "ipython",
    "version": 3
   },
   "file_extension": ".py",
   "mimetype": "text/x-python",
   "name": "python",
   "nbconvert_exporter": "python",
   "pygments_lexer": "ipython3",
   "version": "3.11.7"
  }
 },
 "nbformat": 4,
 "nbformat_minor": 5
}
