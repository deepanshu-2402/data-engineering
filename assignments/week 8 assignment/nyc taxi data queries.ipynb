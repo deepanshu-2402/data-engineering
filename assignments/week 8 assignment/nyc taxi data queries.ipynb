{
 "cells": [
  {
   "cell_type": "code",
   "execution_count": 0,
   "metadata": {
    "application/vnd.databricks.v1+cell": {
     "cellMetadata": {
      "byteLimit": 2048000,
      "rowLimit": 10000
     },
     "inputWidgets": {},
     "nuid": "63b119e1-ab60-49c7-838a-5a37d5f77b21",
     "showTitle": false,
     "tableResultSettingsMap": {},
     "title": ""
    }
   },
   "outputs": [
    {
     "name": "stdout",
     "output_type": "stream",
     "text": [
      "/mnt/week8 is already mounted.\n"
     ]
    }
   ],
   "source": [
    "#configurations\n",
    "storageAccount = \"week5assignment\"   \n",
    "accessKey = \"<access-key>\"\n",
    "container= \"week8\"\n",
    "mount_point = f\"/mnt/{container}\"\n",
    "if not any(mount.mountPoint == mount_point for mount in dbutils.fs.mounts()):\n",
    "    dbutils.fs.mount(\n",
    "        source = f\"wasbs://{container}@{storageAccount}.blob.core.windows.net\",\n",
    "        mount_point = mount_point,\n",
    "        extra_configs = {f\"fs.azure.account.key.{storageAccount}.blob.core.windows.net\": accessKey}\n",
    "    )\n",
    "else:\n",
    "    print(f\"{mount_point} is already mounted.\")"
   ]
  },
  {
   "cell_type": "code",
   "execution_count": 0,
   "metadata": {
    "application/vnd.databricks.v1+cell": {
     "cellMetadata": {
      "byteLimit": 2048000,
      "rowLimit": 10000
     },
     "inputWidgets": {},
     "nuid": "40b5429a-5185-4283-b692-6e38e7e89705",
     "showTitle": false,
     "tableResultSettingsMap": {},
     "title": ""
    }
   },
   "outputs": [
    {
     "data": {
      "text/html": [
       "<style scoped>\n",
       "  .table-result-container {\n",
       "    max-height: 300px;\n",
       "    overflow: auto;\n",
       "  }\n",
       "  table, th, td {\n",
       "    border: 1px solid black;\n",
       "    border-collapse: collapse;\n",
       "  }\n",
       "  th, td {\n",
       "    padding: 5px;\n",
       "  }\n",
       "  th {\n",
       "    text-align: left;\n",
       "  }\n",
       "</style><div class='table-result-container'><table class='table-result'><thead style='background-color: white'><tr><th>path</th><th>name</th><th>size</th><th>modificationTime</th></tr></thead><tbody><tr><td>dbfs:/mnt/week8/yellow_tripdata_2018-01.parquet</td><td>yellow_tripdata_2018-01.parquet</td><td>123668517</td><td>1752389352000</td></tr></tbody></table></div>"
      ]
     },
     "metadata": {
      "application/vnd.databricks.v1+output": {
       "addedWidgets": {},
       "aggData": [],
       "aggError": "",
       "aggOverflow": false,
       "aggSchema": [],
       "aggSeriesLimitReached": false,
       "aggType": "",
       "arguments": {},
       "columnCustomDisplayInfos": {},
       "data": [
        [
         "dbfs:/mnt/week8/yellow_tripdata_2018-01.parquet",
         "yellow_tripdata_2018-01.parquet",
         123668517,
         1752389352000
        ]
       ],
       "datasetInfos": [],
       "dbfsResultPath": null,
       "isJsonSchema": true,
       "metadata": {},
       "overflow": false,
       "plotOptions": {
        "customPlotOptions": {},
        "displayType": "table",
        "pivotAggregation": null,
        "pivotColumns": null,
        "xColumns": null,
        "yColumns": null
       },
       "removedWidgets": [],
       "schema": [
        {
         "metadata": "{}",
         "name": "path",
         "type": "\"string\""
        },
        {
         "metadata": "{}",
         "name": "name",
         "type": "\"string\""
        },
        {
         "metadata": "{}",
         "name": "size",
         "type": "\"long\""
        },
        {
         "metadata": "{}",
         "name": "modificationTime",
         "type": "\"long\""
        }
       ],
       "type": "table"
      }
     },
     "output_type": "display_data"
    }
   ],
   "source": [
    "display(dbutils.fs.ls(\"/mnt/week8\"))"
   ]
  },
  {
   "cell_type": "code",
   "execution_count": 0,
   "metadata": {
    "application/vnd.databricks.v1+cell": {
     "cellMetadata": {
      "byteLimit": 2048000,
      "rowLimit": 10000
     },
     "inputWidgets": {},
     "nuid": "520b8da6-c2f6-46d0-be0b-53408dd92338",
     "showTitle": false,
     "tableResultSettingsMap": {},
     "title": ""
    }
   },
   "outputs": [
    {
     "name": "stdout",
     "output_type": "stream",
     "text": [
      "root\n",
      " |-- VendorID: long (nullable = true)\n",
      " |-- tpep_pickup_datetime: timestamp_ntz (nullable = true)\n",
      " |-- tpep_dropoff_datetime: timestamp_ntz (nullable = true)\n",
      " |-- passenger_count: long (nullable = true)\n",
      " |-- trip_distance: double (nullable = true)\n",
      " |-- RatecodeID: long (nullable = true)\n",
      " |-- store_and_fwd_flag: string (nullable = true)\n",
      " |-- PULocationID: long (nullable = true)\n",
      " |-- DOLocationID: long (nullable = true)\n",
      " |-- payment_type: long (nullable = true)\n",
      " |-- fare_amount: double (nullable = true)\n",
      " |-- extra: double (nullable = true)\n",
      " |-- mta_tax: double (nullable = true)\n",
      " |-- tip_amount: double (nullable = true)\n",
      " |-- tolls_amount: double (nullable = true)\n",
      " |-- improvement_surcharge: double (nullable = true)\n",
      " |-- total_amount: double (nullable = true)\n",
      " |-- congestion_surcharge: double (nullable = true)\n",
      " |-- airport_fee: double (nullable = true)\n",
      "\n"
     ]
    }
   ],
   "source": [
    "df = spark.read.parquet(\"/mnt/week8/yellow_tripdata_2018-01.parquet\")\n",
    "df.printSchema()"
   ]
  },
  {
   "cell_type": "code",
   "execution_count": 0,
   "metadata": {
    "application/vnd.databricks.v1+cell": {
     "cellMetadata": {
      "byteLimit": 2048000,
      "rowLimit": 10000
     },
     "inputWidgets": {},
     "nuid": "85da9825-2535-44f0-8f5f-2f708bea06d8",
     "showTitle": false,
     "tableResultSettingsMap": {},
     "title": ""
    }
   },
   "outputs": [
    {
     "name": "stdout",
     "output_type": "stream",
     "text": [
      "+--------+--------------------+---------------------+---------------+-------------+----------+------------------+------------+------------+------------+-----------+-----+-------+----------+------------+---------------------+------------+--------------------+-----------+\n",
      "|VendorID|tpep_pickup_datetime|tpep_dropoff_datetime|passenger_count|trip_distance|RatecodeID|store_and_fwd_flag|PULocationID|DOLocationID|payment_type|fare_amount|extra|mta_tax|tip_amount|tolls_amount|improvement_surcharge|total_amount|congestion_surcharge|airport_fee|\n",
      "+--------+--------------------+---------------------+---------------+-------------+----------+------------------+------------+------------+------------+-----------+-----+-------+----------+------------+---------------------+------------+--------------------+-----------+\n",
      "|       1| 2018-01-01 00:21:05|  2018-01-01 00:24:23|              1|          0.5|         1|                 N|          41|          24|           2|        4.5|  0.5|    0.5|       0.0|         0.0|                  0.3|         5.8|                NULL|       NULL|\n",
      "|       1| 2018-01-01 00:44:55|  2018-01-01 01:03:05|              1|          2.7|         1|                 N|         239|         140|           2|       14.0|  0.5|    0.5|       0.0|         0.0|                  0.3|        15.3|                NULL|       NULL|\n",
      "|       1| 2018-01-01 00:08:26|  2018-01-01 00:14:21|              2|          0.8|         1|                 N|         262|         141|           1|        6.0|  0.5|    0.5|       1.0|         0.0|                  0.3|         8.3|                NULL|       NULL|\n",
      "|       1| 2018-01-01 00:20:22|  2018-01-01 00:52:51|              1|         10.2|         1|                 N|         140|         257|           2|       33.5|  0.5|    0.5|       0.0|         0.0|                  0.3|        34.8|                NULL|       NULL|\n",
      "|       1| 2018-01-01 00:09:18|  2018-01-01 00:27:06|              2|          2.5|         1|                 N|         246|         239|           1|       12.5|  0.5|    0.5|      2.75|         0.0|                  0.3|       16.55|                NULL|       NULL|\n",
      "+--------+--------------------+---------------------+---------------+-------------+----------+------------------+------------+------------+------------+-----------+-----+-------+----------+------------+---------------------+------------+--------------------+-----------+\n",
      "only showing top 5 rows\n",
      "\n"
     ]
    }
   ],
   "source": [
    "df.show(5)"
   ]
  },
  {
   "cell_type": "markdown",
   "metadata": {
    "application/vnd.databricks.v1+cell": {
     "cellMetadata": {
      "byteLimit": 2048000,
      "rowLimit": 10000
     },
     "inputWidgets": {},
     "nuid": "f85fa2b0-2d94-4244-bf08-b256167762af",
     "showTitle": false,
     "tableResultSettingsMap": {},
     "title": ""
    }
   },
   "source": [
    "Query 1. Add a column named as \"Revenue\" into dataframe which is the sum of the below columns: 'Fare_amount','Extra','MTA_tax','Improvement_surcharge','Tip_amount','Tolls_amount','Total_amount'"
   ]
  },
  {
   "cell_type": "code",
   "execution_count": 0,
   "metadata": {
    "application/vnd.databricks.v1+cell": {
     "cellMetadata": {
      "byteLimit": 2048000,
      "rowLimit": 10000
     },
     "inputWidgets": {},
     "nuid": "0abdd4cb-b1cb-4658-a18c-0cae0e338241",
     "showTitle": false,
     "tableResultSettingsMap": {},
     "title": ""
    }
   },
   "outputs": [],
   "source": [
    "from pyspark.sql.functions import col\n",
    "df = df.withColumn(\"Revenue\", \n",
    "    col(\"fare_amount\") + col(\"extra\") + col(\"mta_tax\") +\n",
    "    col(\"improvement_surcharge\") + col(\"tip_amount\") +\n",
    "    col(\"tolls_amount\") + col(\"total_amount\")\n",
    ")"
   ]
  },
  {
   "cell_type": "markdown",
   "metadata": {
    "application/vnd.databricks.v1+cell": {
     "cellMetadata": {
      "byteLimit": 2048000,
      "rowLimit": 10000
     },
     "inputWidgets": {},
     "nuid": "79106523-3b1e-467b-9b32-d5f249382993",
     "showTitle": false,
     "tableResultSettingsMap": {},
     "title": ""
    }
   },
   "source": [
    "Query 2. Increasing count of total passengers in New York City by area"
   ]
  },
  {
   "cell_type": "code",
   "execution_count": 0,
   "metadata": {
    "application/vnd.databricks.v1+cell": {
     "cellMetadata": {
      "byteLimit": 2048000,
      "rowLimit": 10000
     },
     "inputWidgets": {},
     "nuid": "08c943c0-0d8e-488a-9ee2-4b6b4dff8eaa",
     "showTitle": false,
     "tableResultSettingsMap": {},
     "title": ""
    }
   },
   "outputs": [
    {
     "name": "stdout",
     "output_type": "stream",
     "text": [
      "+------------+---------------+\n",
      "|PULocationID|totalPassengers|\n",
      "+------------+---------------+\n",
      "|         161|         573916|\n",
      "|         237|         572988|\n",
      "|         236|         550847|\n",
      "|         230|         511603|\n",
      "|         162|         490738|\n",
      "|         186|         460129|\n",
      "|         234|         455335|\n",
      "|         170|         440565|\n",
      "|          48|         438312|\n",
      "|         142|         427097|\n",
      "|         163|         391685|\n",
      "|          79|         390878|\n",
      "|         138|         381519|\n",
      "|         239|         370578|\n",
      "|         141|         340100|\n",
      "|         132|         333826|\n",
      "|         164|         332941|\n",
      "|         107|         330597|\n",
      "|          68|         324889|\n",
      "|         100|         296869|\n",
      "+------------+---------------+\n",
      "only showing top 20 rows\n",
      "\n"
     ]
    }
   ],
   "source": [
    "from pyspark.sql.functions import sum as s\n",
    "df.groupBy(\"PULocationID\")\\\n",
    "  .agg(s(\"passenger_count\").alias(\"totalPassengers\"))\\\n",
    "  .orderBy(\"TotalPassengers\", ascending=False).show()"
   ]
  },
  {
   "cell_type": "markdown",
   "metadata": {
    "application/vnd.databricks.v1+cell": {
     "cellMetadata": {
      "byteLimit": 2048000,
      "rowLimit": 10000
     },
     "inputWidgets": {},
     "nuid": "dbdfa255-fdc7-444c-b4d1-ddcf4c16125c",
     "showTitle": false,
     "tableResultSettingsMap": {},
     "title": ""
    }
   },
   "source": [
    "Query 3. Realtime Average fare/total earning amount earned by 2 vendors "
   ]
  },
  {
   "cell_type": "code",
   "execution_count": 0,
   "metadata": {
    "application/vnd.databricks.v1+cell": {
     "cellMetadata": {
      "byteLimit": 2048000,
      "rowLimit": 10000
     },
     "inputWidgets": {},
     "nuid": "1c4d2898-ac3a-49bb-9780-5916453a7ca3",
     "showTitle": false,
     "tableResultSettingsMap": {},
     "title": ""
    }
   },
   "outputs": [
    {
     "name": "stdout",
     "output_type": "stream",
     "text": [
      "+--------+-------------------+--------------------+\n",
      "|VendorID|          totalFare|       totalEarnings|\n",
      "+--------+-------------------+--------------------+\n",
      "|       1|4.599966776999971E7|5.8181947048458464E7|\n",
      "|       2|6.126991590999834E7|  7.75306291266784E7|\n",
      "+--------+-------------------+--------------------+\n",
      "\n"
     ]
    }
   ],
   "source": [
    "df.groupBy(\"VendorID\")\\\n",
    "  .agg(s(\"fare_amount\").alias(\"totalFare\"),\n",
    "       s(\"total_amount\").alias(\"totalEarnings\"))\\\n",
    "  .show()"
   ]
  },
  {
   "cell_type": "markdown",
   "metadata": {
    "application/vnd.databricks.v1+cell": {
     "cellMetadata": {
      "byteLimit": 2048000,
      "rowLimit": 10000
     },
     "inputWidgets": {},
     "nuid": "21f7f64b-15b3-4307-9e14-90642c567a66",
     "showTitle": false,
     "tableResultSettingsMap": {},
     "title": ""
    }
   },
   "source": [
    "Query 4. Moving Count of payments made by each payment mode"
   ]
  },
  {
   "cell_type": "code",
   "execution_count": 0,
   "metadata": {
    "application/vnd.databricks.v1+cell": {
     "cellMetadata": {
      "byteLimit": 2048000,
      "rowLimit": 10000
     },
     "inputWidgets": {},
     "nuid": "c952a9a8-b867-4359-98a8-2c49594c220e",
     "showTitle": false,
     "tableResultSettingsMap": {},
     "title": ""
    }
   },
   "outputs": [
    {
     "name": "stdout",
     "output_type": "stream",
     "text": [
      "+------------+-------+\n",
      "|payment_type|  count|\n",
      "+------------+-------+\n",
      "|           1|6106416|\n",
      "|           2|2599215|\n",
      "|           3|  43204|\n",
      "|           4|  11852|\n",
      "+------------+-------+\n",
      "\n"
     ]
    }
   ],
   "source": [
    "df.groupBy(\"payment_type\").count().orderBy(\"count\", ascending=False).show()"
   ]
  },
  {
   "cell_type": "markdown",
   "metadata": {
    "application/vnd.databricks.v1+cell": {
     "cellMetadata": {
      "byteLimit": 2048000,
      "rowLimit": 10000
     },
     "inputWidgets": {},
     "nuid": "020d3c14-5fda-46c4-8469-d7cf1dc8e3ac",
     "showTitle": false,
     "tableResultSettingsMap": {},
     "title": ""
    }
   },
   "source": [
    "Query 5. Highest two gaining vendor's on a particular date with no of passenger and total distance by cab"
   ]
  },
  {
   "cell_type": "code",
   "execution_count": 0,
   "metadata": {
    "application/vnd.databricks.v1+cell": {
     "cellMetadata": {
      "byteLimit": 2048000,
      "rowLimit": 10000
     },
     "inputWidgets": {},
     "nuid": "6a5701de-306b-47d8-b843-60d9318ffbef",
     "showTitle": false,
     "tableResultSettingsMap": {},
     "title": ""
    }
   },
   "outputs": [
    {
     "name": "stdout",
     "output_type": "stream",
     "text": [
      "+--------+------------------+---------------+------------------+\n",
      "|VendorID|     totalEarnings|totalPassengers|     totalDistance|\n",
      "+--------+------------------+---------------+------------------+\n",
      "|       2|2237888.1600015936|         266559| 439143.8800000009|\n",
      "|       1|1568897.4000015007|         130018|300357.29999999865|\n",
      "+--------+------------------+---------------+------------------+\n",
      "\n"
     ]
    }
   ],
   "source": [
    "from pyspark.sql.functions import to_date\n",
    "df = df.withColumn(\"trip_date\", to_date(\"tpep_pickup_datetime\"))\n",
    "df_filtered = df.filter(col(\"trip_date\") == \"2018-01-15\")\n",
    "df_filtered.groupBy(\"VendorID\").agg(\n",
    "    s(\"total_amount\").alias(\"totalEarnings\"),\n",
    "    s(\"passenger_count\").alias(\"totalPassengers\"),\n",
    "    s(\"trip_distance\").alias(\"totalDistance\")\n",
    ").orderBy(col(\"totalEarnings\").desc()).show(2)"
   ]
  },
  {
   "cell_type": "markdown",
   "metadata": {
    "application/vnd.databricks.v1+cell": {
     "cellMetadata": {},
     "inputWidgets": {},
     "nuid": "697b3ce7-568d-4bbc-a25e-a53174767f53",
     "showTitle": false,
     "tableResultSettingsMap": {},
     "title": ""
    }
   },
   "source": [
    "Query 6. Most no of passenger between a route of two location."
   ]
  },
  {
   "cell_type": "code",
   "execution_count": 0,
   "metadata": {
    "application/vnd.databricks.v1+cell": {
     "cellMetadata": {
      "byteLimit": 2048000,
      "rowLimit": 10000
     },
     "inputWidgets": {},
     "nuid": "d08f6d70-de9a-4f88-a2e8-7d236df9915b",
     "showTitle": false,
     "tableResultSettingsMap": {},
     "title": ""
    }
   },
   "outputs": [
    {
     "name": "stdout",
     "output_type": "stream",
     "text": [
      "+------------+------------+---------------+\n",
      "|PULocationID|DOLocationID|totalPassengers|\n",
      "+------------+------------+---------------+\n",
      "|         264|         264|         186705|\n",
      "|         237|         236|          86737|\n",
      "|         236|         236|          78691|\n",
      "|         236|         237|          71752|\n",
      "|         237|         237|          64499|\n",
      "|         239|         238|          44479|\n",
      "|         239|         142|          42383|\n",
      "|         142|         239|          40365|\n",
      "|         238|         239|          37758|\n",
      "|         141|         236|          36201|\n",
      "|         230|         186|          35109|\n",
      "|         237|         162|          34384|\n",
      "|         186|         230|          33942|\n",
      "|         263|         236|          33661|\n",
      "|         161|         237|          33641|\n",
      "|         237|         161|          33593|\n",
      "|         239|         239|          32184|\n",
      "|          48|          48|          31495|\n",
      "|          79|          79|          31263|\n",
      "|         186|         161|          31190|\n",
      "+------------+------------+---------------+\n",
      "only showing top 20 rows\n",
      "\n"
     ]
    }
   ],
   "source": [
    "df.groupBy(\"PULocationID\", \"DOLocationID\").agg(\n",
    "    s(\"passenger_count\").alias(\"totalPassengers\")\n",
    ").orderBy(col(\"totalPassengers\").desc()).show()\n"
   ]
  },
  {
   "cell_type": "markdown",
   "metadata": {
    "application/vnd.databricks.v1+cell": {
     "cellMetadata": {},
     "inputWidgets": {},
     "nuid": "1d735972-fc0d-45d6-9d75-1b17e0f61d4c",
     "showTitle": false,
     "tableResultSettingsMap": {},
     "title": ""
    }
   },
   "source": [
    "Query 7. Get top pickup locations with most passengers in last 5/10 seconds."
   ]
  },
  {
   "cell_type": "code",
   "execution_count": 0,
   "metadata": {
    "application/vnd.databricks.v1+cell": {
     "cellMetadata": {
      "byteLimit": 2048000,
      "rowLimit": 10000
     },
     "inputWidgets": {},
     "nuid": "f1f96170-b9ca-4969-99ba-ba95497b0271",
     "showTitle": false,
     "tableResultSettingsMap": {},
     "title": ""
    }
   },
   "outputs": [
    {
     "name": "stdout",
     "output_type": "stream",
     "text": [
      "\n",
      " Top pickup locations in last 5 seconds:\n",
      "+------------+----------------+\n",
      "|PULocationID|recentPassengers|\n",
      "+------------+----------------+\n",
      "|          48|               2|\n",
      "+------------+----------------+\n",
      "\n",
      "\n",
      " Top pickup locations in last 10 seconds:\n",
      "+------------+----------------+\n",
      "|PULocationID|recentPassengers|\n",
      "+------------+----------------+\n",
      "|          48|               2|\n",
      "+------------+----------------+\n",
      "\n"
     ]
    }
   ],
   "source": [
    "from pyspark.sql.functions import unix_timestamp, max as m, lit\n",
    "max_time = df.select(m(\"tpep_pickup_datetime\")).first()[0]\n",
    "df_with_unix = df.withColumn(\"pickup_unix\", unix_timestamp(\"tpep_pickup_datetime\"))\n",
    "max_unix_time = spark.sql(f\"SELECT unix_timestamp('{max_time}')\").first()[0]\n",
    "print(\"\\n Top pickup locations in last 5 seconds:\")\n",
    "df_with_unix.filter(col(\"pickup_unix\") >= (max_unix_time - 5)) \\\n",
    "    .groupBy(\"PULocationID\") \\\n",
    "    .agg(s(\"passenger_count\").alias(\"recentPassengers\")) \\\n",
    "    .orderBy(col(\"recentPassengers\").desc()) \\\n",
    "    .show()\n",
    "print(\"\\n Top pickup locations in last 10 seconds:\")\n",
    "df_with_unix.filter(col(\"pickup_unix\") >= (max_unix_time - 10)) \\\n",
    "    .groupBy(\"PULocationID\") \\\n",
    "    .agg(s(\"passenger_count\").alias(\"recentPassengers\")) \\\n",
    "    .orderBy(col(\"recentPassengers\").desc()) \\\n",
    "    .show()"
   ]
  },
  {
   "cell_type": "code",
   "execution_count": 0,
   "metadata": {
    "application/vnd.databricks.v1+cell": {
     "cellMetadata": {},
     "inputWidgets": {},
     "nuid": "4d48825e-19af-461a-8a62-7deb0d2144f6",
     "showTitle": false,
     "tableResultSettingsMap": {},
     "title": ""
    }
   },
   "outputs": [],
   "source": []
  }
 ],
 "metadata": {
  "application/vnd.databricks.v1+notebook": {
   "computePreferences": null,
   "dashboards": [],
   "environmentMetadata": {
    "base_environment": "",
    "environment_version": "2"
   },
   "inputWidgetPreferences": null,
   "language": "python",
   "notebookMetadata": {
    "pythonIndentUnit": 4
   },
   "notebookName": "nyc taxi data queries",
   "widgets": {}
  },
  "language_info": {
   "name": "python"
  }
 },
 "nbformat": 4,
 "nbformat_minor": 0
}
